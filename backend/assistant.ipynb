{
 "cells": [
  {
   "cell_type": "code",
   "execution_count": 1,
   "metadata": {},
   "outputs": [
    {
     "data": {
      "text/plain": [
       "True"
      ]
     },
     "execution_count": 1,
     "metadata": {},
     "output_type": "execute_result"
    }
   ],
   "source": [
    "import os\n",
    "from groq import AsyncGroq\n",
    "from dotenv import load_dotenv\n",
    "load_dotenv()"
   ]
  },
  {
   "cell_type": "code",
   "execution_count": 2,
   "metadata": {},
   "outputs": [],
   "source": [
    "client = AsyncGroq(api_key=os.environ['GROQ_API_KEY'])\n",
    "\n",
    "async def chat(messages, model='llama3-8b-8192'):\n",
    "    res = await client.chat.completions.create(messages=messages, model=model)\n",
    "    return res.choices[0].message.content\n",
    "\n",
    "async def chat_stream(messages, model='llama3-8b-8192'):\n",
    "    stream = await client.chat.completions.create(messages=messages, model=model, stream=True)\n",
    "    async for chunk in stream:\n",
    "        content = chunk.choices[0].delta.content\n",
    "        if content:\n",
    "            yield content"
   ]
  },
  {
   "cell_type": "code",
   "execution_count": 3,
   "metadata": {},
   "outputs": [],
   "source": [
    "async def translate(text):\n",
    "    messages = [\n",
    "        {'role': 'system', 'content': 'You are a helpful real-time translator from Spanish to English. Every time you receive a message from the user, just output the same message in English'},\n",
    "        {'role': 'user', 'content': text}\n",
    "    ]\n",
    "    async for chunk in chat_stream(messages):\n",
    "        print(chunk, end='')\n",
    "    print('\\n')"
   ]
  },
  {
   "cell_type": "code",
   "execution_count": 4,
   "metadata": {},
   "outputs": [],
   "source": [
    "from deepgram import (\n",
    "    DeepgramClient,\n",
    "    DeepgramClientOptions,\n",
    "    LiveTranscriptionEvents,\n",
    "    LiveOptions,\n",
    "    Microphone,\n",
    ")\n",
    "import asyncio\n",
    "import string\n",
    "import re"
   ]
  },
  {
   "cell_type": "code",
   "execution_count": 7,
   "metadata": {},
   "outputs": [],
   "source": [
    "async def transcribe_audio():\n",
    "    # Event to signal transcription is complete\n",
    "    transcription_complete = asyncio.Event()\n",
    "    \n",
    "    try:\n",
    "        config: DeepgramClientOptions = DeepgramClientOptions(\n",
    "            options={'keepalive': 'true'}\n",
    "        )\n",
    "        deepgram: DeepgramClient = DeepgramClient('', config)\n",
    "        dg_connection = deepgram.listen.asynclive.v('1')\n",
    "        transcript_parts = []\n",
    "\n",
    "        def is_transaction_complete(text):\n",
    "            # Remove punctuation\n",
    "            text = text.translate(str.maketrans('', '', string.punctuation))\n",
    "            text = text.strip().lower()\n",
    "            return re.search(r'\\b(goodbye|bye)\\b$', text) is not None\n",
    "            # return re.search(r'\\b(adios|adiós)\\b$', text) is not None\n",
    "\n",
    "        async def on_message(self, result, **kwargs):\n",
    "            nonlocal transcript_parts\n",
    "            sentence = result.channel.alternatives[0].transcript\n",
    "            if len(sentence) == 0:\n",
    "                return\n",
    "            if result.is_final:\n",
    "                # We need to collect these and concatenate them together when we get a speech_final=true\n",
    "                transcript_parts.append(sentence)\n",
    "                print(sentence)\n",
    "                \n",
    "                # Sufficent silence detected to consider this end of speech\n",
    "                if result.speech_final:\n",
    "                    full_transcript = ' '.join(transcript_parts)\n",
    "                    transcript_parts = []\n",
    "                    # Signal transcription is complete and exit\n",
    "                    if is_transaction_complete(sentence):\n",
    "                        transcription_complete.set()\n",
    "                    # await translate(full_transcript)\n",
    "            else:\n",
    "                # Interim results\n",
    "                print(sentence, end='\\r')\n",
    "        \n",
    "        # async def on_utterance_end(self, utterance_end, **kwargs):\n",
    "        #     nonlocal transcript_parts\n",
    "        #     if len(transcript_parts) > 0:\n",
    "        #         full_transcript = ' '.join(transcript_parts)\n",
    "        #         transcript_parts = []\n",
    "        \n",
    "        async def on_error(self, error, **kwargs):\n",
    "            print(f'Error: {error}')\n",
    "        \n",
    "        dg_connection.on(LiveTranscriptionEvents.Transcript, on_message)\n",
    "        # dg_connection.on(LiveTranscriptionEvents.UtteranceEnd, on_utterance_end)\n",
    "        dg_connection.on(LiveTranscriptionEvents.Error, on_error)\n",
    "\n",
    "        # connect to websocket\n",
    "        options: LiveOptions = LiveOptions(\n",
    "            model='nova-2',\n",
    "            language='en',\n",
    "            # language='es',\n",
    "            # Apply smart formatting to the output\n",
    "            smart_format=True,\n",
    "            # Raw audio format details\n",
    "            encoding='linear16',\n",
    "            channels=1,\n",
    "            sample_rate=16000,\n",
    "            # To get UtteranceEnd, the following must be set:\n",
    "            interim_results=True,\n",
    "            utterance_end_ms='1000',\n",
    "            vad_events=True,\n",
    "            # Time in milliseconds of silence to wait for before finalizing speech\n",
    "            endpointing=300,\n",
    "        )\n",
    "        addons = {\n",
    "            # Prevent waiting for additional numbers\n",
    "            'no_delay': 'true'\n",
    "        }\n",
    "\n",
    "        print('Start talking...\\n')\n",
    "        if await dg_connection.start(options, addons=addons) is False:\n",
    "            print('Failed to connect to Deepgram')\n",
    "            return\n",
    "        \n",
    "        # Open a microphone stream on the default input device\n",
    "        microphone = Microphone(dg_connection.send)\n",
    "        microphone.start()\n",
    "\n",
    "        # Wait for the transcription to complete\n",
    "        await transcription_complete.wait()\n",
    "        \n",
    "        microphone.finish()\n",
    "        await dg_connection.finish()\n",
    "    \n",
    "    except Exception as e:\n",
    "        print(f\"Could not open socket: {e}\")\n",
    "        return"
   ]
  },
  {
   "cell_type": "code",
   "execution_count": null,
   "metadata": {},
   "outputs": [],
   "source": [
    "await transcribe_audio()"
   ]
  },
  {
   "cell_type": "code",
   "execution_count": 91,
   "metadata": {},
   "outputs": [],
   "source": [
    "import requests\n",
    "import wave\n",
    "import pyaudio"
   ]
  },
  {
   "cell_type": "code",
   "execution_count": 92,
   "metadata": {},
   "outputs": [],
   "source": [
    "DEEPGRAM_URL = 'https://api.deepgram.com/v1/speak?model=aura-luna-en&encoding=linear16&sample_rate=24000'\n",
    "headers = {\n",
    "    'Authorization': f'Token {os.environ['DEEPGRAM_API_KEY']}',\n",
    "    'Content-Type': 'application/json'\n",
    "}\n",
    "payload = {\n",
    "    'text': 'I am deploying my first text to speech demo. I am really happy right now. I hope you enjoy it too!'\n",
    "}\n",
    "\n",
    "res = requests.post(DEEPGRAM_URL, headers=headers, json=payload, stream=True)\n",
    "with wave.open(res.raw, 'rb') as wf:\n",
    "    p = pyaudio.PyAudio()\n",
    "    stream = p.open(\n",
    "        format=p.get_format_from_width(wf.getsampwidth()),\n",
    "        channels=wf.getnchannels(),\n",
    "        rate=wf.getframerate(),\n",
    "        frames_per_buffer=1024,\n",
    "        output=True\n",
    "    )\n",
    "    while len(data := wf.readframes(1024)): \n",
    "        stream.write(data)\n",
    "    \n",
    "    stream.close()\n",
    "    p.terminate()"
   ]
  },
  {
   "cell_type": "code",
   "execution_count": null,
   "metadata": {},
   "outputs": [],
   "source": []
  }
 ],
 "metadata": {
  "kernelspec": {
   "display_name": ".venv",
   "language": "python",
   "name": "python3"
  },
  "language_info": {
   "codemirror_mode": {
    "name": "ipython",
    "version": 3
   },
   "file_extension": ".py",
   "mimetype": "text/x-python",
   "name": "python",
   "nbconvert_exporter": "python",
   "pygments_lexer": "ipython3",
   "version": "3.12.3"
  }
 },
 "nbformat": 4,
 "nbformat_minor": 2
}
